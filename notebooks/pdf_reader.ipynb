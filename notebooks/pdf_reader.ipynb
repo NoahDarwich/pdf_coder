{
 "cells": [
  {
   "cell_type": "code",
   "execution_count": 20,
   "metadata": {},
   "outputs": [],
   "source": [
    "import pandas as pd\n",
    "import numpy as np\n",
    "\n",
    "\n",
    "import fitz\n",
    "from camel_tools.utils.dediac import dediac_ar\n",
    "from ar_corrector.corrector import Corrector\n",
    "from deep_translator import GoogleTranslator\n",
    "\n",
    "from nltk.stem import PorterStemmer\n",
    "from nltk.tokenize import word_tokenize\n",
    "from summarizer import Summarizer,TransformerSummarizer\n"
   ]
  },
  {
   "cell_type": "code",
   "execution_count": 6,
   "metadata": {},
   "outputs": [],
   "source": [
    "def convert_pdf_to_text(path):\n",
    "    with fitz.open(path) as doc:\n",
    "        for page in doc:\n",
    "            blocks = page.get_text_blocks()\n",
    "            corr = Corrector()\n",
    "            texts = []\n",
    "            for block in blocks:\n",
    "                text = block[4:-2][0]\n",
    "                text = dediac_ar(text[::-1]).replace('�','').strip('\\n').replace('\\n','')\n",
    "                corrected = corr.contextual_correct(text)\n",
    "                texts.append(corrected)\n",
    "    return texts\n"
   ]
  },
  {
   "cell_type": "code",
   "execution_count": 7,
   "metadata": {},
   "outputs": [],
   "source": [
    "def translate_texts(text):\n",
    "    translator = GoogleTranslator(source='ar', target='en')\n",
    "    translated = translator.translate(text)\n",
    "\n",
    "    return translated"
   ]
  },
  {
   "cell_type": "code",
   "execution_count": 8,
   "metadata": {},
   "outputs": [],
   "source": [
    "def filtering_events(texts):\n",
    "    \n",
    "    ps = PorterStemmer()\n",
    "    key_words = ['occupation','sit-in','demonstration','protest','roadblock','blockade','attack','march','strike']\n",
    "    key_words = [ps.stem(word) for word in key_words]\n",
    "    \n",
    "    # texts = [word_tokenize(text) for text in texts]\n",
    "    \n",
    "    events = []\n",
    "    not_events = []\n",
    "    for text in texts:\n",
    "        if any(x in [ps.stem(word) for word in word_tokenize(text)] for x in key_words):\n",
    "            events.append(text)\n",
    "        else:\n",
    "            not_events.append(text) \n",
    "        \n",
    "    return events, not_events"
   ]
  },
  {
   "cell_type": "code",
   "execution_count": 9,
   "metadata": {},
   "outputs": [],
   "source": [
    "path = '/home/noahdarwich/code/NoahDarwich/pdf_coder/raw_data/20194004.1.pdf'\n",
    "texts = convert_pdf_to_text(path)\n",
    "all_texts = [translate_texts(text) for text in texts]"
   ]
  },
  {
   "cell_type": "code",
   "execution_count": 10,
   "metadata": {},
   "outputs": [],
   "source": [
    "events, not_events = filtering_events(all_texts)"
   ]
  },
  {
   "cell_type": "code",
   "execution_count": 11,
   "metadata": {},
   "outputs": [],
   "source": [
    "df = pd.read_csv('../raw_data/tishreen_full.csv')\n",
    "train_df = df[df['URL1'] == 'https://tareeqashaab.com/images/TariqPDF/2019/10/3.pdf']\n",
    "target_df = [translate_texts(text) for text in list(train_df['narrative'])]"
   ]
  },
  {
   "cell_type": "code",
   "execution_count": 12,
   "metadata": {},
   "outputs": [
    {
     "data": {
      "text/plain": [
       "[('A demonstration in Tahrir Square calling for the eradication of corruption and unemployment, the security forces dispersed the demonstrators using live bullets and tear gas',\n",
       "  1),\n",
       " ('Angry protests in the Zafaraniya area of \\u200b\\u200bBaghdad due to the security forces cutting off the roads leading to Tahrir Square',\n",
       "  1),\n",
       " ('Angry protests in Al-Sadr area in Baghdad due to the security forces cutting off the roads leading to Tahrir Square',\n",
       "  1),\n",
       " ('Angry protests in the Husseiniya area of \\u200b\\u200bBaghdad due to the security forces cutting off the roads leading to Tahrir Square',\n",
       "  1),\n",
       " ('Angry protests in Al-Shaab area in Baghdad due to the security forces cutting off the roads leading to Tahrir Square',\n",
       "  1),\n",
       " ('Angry protests in the Bob Al-Sham area of \\u200b\\u200bBaghdad due to the security forces cutting off the roads leading to Tahrir Square',\n",
       "  1),\n",
       " ('Angry protests in the Al-Obaidi area of \\u200b\\u200bBaghdad due to the security forces cutting off the roads leading to Tahrir Square',\n",
       "  1),\n",
       " ('Angry protests in Al-Karkh in Baghdad due to the security forces cutting off the roads leading to Tahrir Square',\n",
       "  1),\n",
       " ('Al-Haboubi Square demonstration to Dhi Qar governorate building, demanding services and job opportunities, and chanting to bring down the government. Some protesters stormed the governorate building and burned part of it',\n",
       "  1),\n",
       " ('A mass demonstration was launched in Basra Governorate, which witnessed the arrests of a group of demonstrators by the security forces',\n",
       "  1),\n",
       " ('Demonstrations in Wasit near the provincial council building in support of the series of demonstrations that took place in other provinces',\n",
       "  1),\n",
       " (\"Angry citizens demonstrated in Najaf province, against corruption and continuous government failure, and to demand government reforms and to protest the government's repressive practices against graduate degree holders.\",\n",
       "  1),\n",
       " ('Demonstrations in front of the Diyala Provincial Council building against the deteriorating living conditions, the absence of job opportunities, and the spread of unemployment and corruption in state departments and institutions',\n",
       "  1),\n",
       " ('A demonstration in front of the Maysan Provincial Council, denouncing corruption and the current situation, the security forces tried to disperse the demonstration and arrested two demonstrators, the demonstrators burned the provincial council',\n",
       "  1),\n",
       " ('A demonstration in Tahrir Square calling for an end to corruption and unemployment, and clashes on the Jumhuriya Bridge between demonstrators and the security forces after the demonstrators tried to enter the Green Zone',\n",
       "  1),\n",
       " ('A massive demonstration in Dhi Qar governorate demanded services and job opportunities. The demonstrators burned the provincial council',\n",
       "  1),\n",
       " ('Demonstrations started in Al-Muthanna governorate in front of the governorate council building, raising demand slogans',\n",
       "  1),\n",
       " ('Thousands of Babil Governorate people gathered in front of the Provincial Council building in the center of Hilla, demanding better services, and accountability for spoilers. The demonstrators burned the Provincial Council.',\n",
       "  1),\n",
       " (\"Hundreds demonstrated in Karbala in front of the governorate building, in protest against the government's measures to suppress the demonstrators and in support of the demands they raised\",\n",
       "  1)]"
      ]
     },
     "execution_count": 12,
     "metadata": {},
     "output_type": "execute_result"
    }
   ],
   "source": [
    "target_df = [(x,1) for x in target_df]\n",
    "target_df"
   ]
  },
  {
   "cell_type": "code",
   "execution_count": null,
   "metadata": {},
   "outputs": [],
   "source": []
  },
  {
   "cell_type": "code",
   "execution_count": 26,
   "metadata": {},
   "outputs": [],
   "source": [
    "# model = Summarizer()\n",
    "# summary_ = [model(text, min_length=3) for text in not_events]\n",
    "# summary_ "
   ]
  },
  {
   "cell_type": "code",
   "execution_count": 27,
   "metadata": {},
   "outputs": [],
   "source": [
    "# model = TransformerSummarizer(transformer_type=\"XLNet\",transformer_model_key=\"xlnet-base-cased\")\n",
    "# summary_2 = [model(text, min_length=3) for text in not_events]\n",
    "# summary_2"
   ]
  }
 ],
 "metadata": {
  "kernelspec": {
   "display_name": "Python 3.8.12 64-bit ('shims')",
   "language": "python",
   "name": "python3"
  },
  "language_info": {
   "codemirror_mode": {
    "name": "ipython",
    "version": 3
   },
   "file_extension": ".py",
   "mimetype": "text/x-python",
   "name": "python",
   "nbconvert_exporter": "python",
   "pygments_lexer": "ipython3",
   "version": "3.8.12"
  },
  "orig_nbformat": 4,
  "vscode": {
   "interpreter": {
    "hash": "08f894913cde66c7b668fed923c75d3a020a4a5d16d7076f7658aed24e50b1e3"
   }
  }
 },
 "nbformat": 4,
 "nbformat_minor": 2
}
