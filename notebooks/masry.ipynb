{
 "cells": [
  {
   "cell_type": "code",
   "execution_count": 1,
   "metadata": {},
   "outputs": [],
   "source": [
    "from bs4 import BeautifulSoup\n",
    "import requests\n",
    "\n",
    "\n",
    "import urllib.request\n",
    "from urllib.error import HTTPError\n",
    "from urllib.error import URLError"
   ]
  },
  {
   "cell_type": "code",
   "execution_count": 30,
   "metadata": {},
   "outputs": [],
   "source": [
    "URL = \"https://www.almasryalyoum.com/news/details/1789802\"\n",
    "\n",
    "page = requests.get(URL)\n",
    "bs = BeautifulSoup(page.text, 'html.parser')"
   ]
  },
  {
   "cell_type": "code",
   "execution_count": 33,
   "metadata": {},
   "outputs": [
    {
     "data": {
      "text/plain": [
       "'\\n\\n\\nJust a moment...\\n\\n\\n\\n\\n\\n\\n\\n\\n\\n\\n\\n            www.almasryalyoum.com\\n        \\n\\n            Checking if the site connection is secure\\n        \\n\\n\\n\\n\\n\\n\\n\\n                        Enable JavaScript and cookies to continue\\n                    \\n\\n\\n\\n\\n\\n            www.almasryalyoum.com needs to review the security of your connection before proceeding.\\n        \\n\\n\\n\\n\\n\\n\\n\\n\\n\\n\\nRay ID: 759159bd6cbd9b8e\\n\\nPerformance & security by Cloudflare\\n\\n\\n\\n\\n'"
      ]
     },
     "execution_count": 33,
     "metadata": {},
     "output_type": "execute_result"
    }
   ],
   "source": [
    "bs.text"
   ]
  },
  {
   "cell_type": "code",
   "execution_count": 34,
   "metadata": {},
   "outputs": [
    {
     "ename": "AttributeError",
     "evalue": "'NoneType' object has no attribute 'find_all'",
     "output_type": "error",
     "traceback": [
      "\u001b[0;31m---------------------------------------------------------------------------\u001b[0m",
      "\u001b[0;31mAttributeError\u001b[0m                            Traceback (most recent call last)",
      "\u001b[1;32m/home/noahdarwich/code/NoahDarwich/pdf_coder/notebooks/masry.ipynb Cell 4\u001b[0m in \u001b[0;36m<cell line: 1>\u001b[0;34m()\u001b[0m\n\u001b[0;32m----> <a href='vscode-notebook-cell://wsl%2Bubuntu/home/noahdarwich/code/NoahDarwich/pdf_coder/notebooks/masry.ipynb#W2sdnNjb2RlLXJlbW90ZQ%3D%3D?line=0'>1</a>\u001b[0m results \u001b[39m=\u001b[39m bs\u001b[39m.\u001b[39;49mfind(\u001b[39mid\u001b[39;49m\u001b[39m=\u001b[39;49m\u001b[39m'\u001b[39;49m\u001b[39mNewsStory\u001b[39;49m\u001b[39m'\u001b[39;49m)\u001b[39m.\u001b[39;49mfind_all(\u001b[39m'\u001b[39m\u001b[39mp\u001b[39m\u001b[39m'\u001b[39m,recursive\u001b[39m=\u001b[39m\u001b[39mFalse\u001b[39;00m)\n\u001b[1;32m      <a href='vscode-notebook-cell://wsl%2Bubuntu/home/noahdarwich/code/NoahDarwich/pdf_coder/notebooks/masry.ipynb#W2sdnNjb2RlLXJlbW90ZQ%3D%3D?line=1'>2</a>\u001b[0m \u001b[39mprint\u001b[39m(\u001b[39mtype\u001b[39m(results)) \n\u001b[1;32m      <a href='vscode-notebook-cell://wsl%2Bubuntu/home/noahdarwich/code/NoahDarwich/pdf_coder/notebooks/masry.ipynb#W2sdnNjb2RlLXJlbW90ZQ%3D%3D?line=2'>3</a>\u001b[0m \u001b[39mprint\u001b[39m(results)\n",
      "\u001b[0;31mAttributeError\u001b[0m: 'NoneType' object has no attribute 'find_all'"
     ]
    }
   ],
   "source": [
    "results = bs.find(id='NewsStory').find_all('p',recursive=False)\n",
    "print(type(results)) \n",
    "print(results)    \n",
    "\n",
    "# for text in results:\n",
    "#     print(text)                                                 \n",
    "    # text = results.find('div', id='NewsStory')                                             \n",
    "    # if text:\n",
    "    #     print(text.text.strip())\n",
    "# results"
   ]
  },
  {
   "cell_type": "code",
   "execution_count": null,
   "metadata": {},
   "outputs": [],
   "source": []
  }
 ],
 "metadata": {
  "kernelspec": {
   "display_name": "Python 3.8.12 64-bit ('shims')",
   "language": "python",
   "name": "python3"
  },
  "language_info": {
   "codemirror_mode": {
    "name": "ipython",
    "version": 3
   },
   "file_extension": ".py",
   "mimetype": "text/x-python",
   "name": "python",
   "nbconvert_exporter": "python",
   "pygments_lexer": "ipython3",
   "version": "3.8.12"
  },
  "orig_nbformat": 4,
  "vscode": {
   "interpreter": {
    "hash": "08f894913cde66c7b668fed923c75d3a020a4a5d16d7076f7658aed24e50b1e3"
   }
  }
 },
 "nbformat": 4,
 "nbformat_minor": 2
}
