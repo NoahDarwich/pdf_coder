{
 "cells": [
  {
   "cell_type": "code",
   "execution_count": 2,
   "metadata": {},
   "outputs": [],
   "source": [
    "import pandas as pd\n",
    "import numpy as np\n",
    "\n",
    "from bs4 import BeautifulSoup\n",
    "import requests\n",
    "import urllib.request\n",
    "from urllib.error import HTTPError\n",
    "from urllib.error import URLError\n",
    "\n",
    "from socket import timeout\n",
    "\n",
    "import plotly.express as px"
   ]
  },
  {
   "cell_type": "code",
   "execution_count": 4,
   "metadata": {},
   "outputs": [
    {
     "data": {
      "text/plain": [
       "(1959, 45)"
      ]
     },
     "execution_count": 4,
     "metadata": {},
     "output_type": "execute_result"
    }
   ],
   "source": [
    "df_sud = pd.read_csv('../raw_data/Sud_updated.csv', index_col='Unnamed: 0')\n",
    "df_sud.shape"
   ]
  },
  {
   "cell_type": "code",
   "execution_count": 5,
   "metadata": {},
   "outputs": [
    {
     "data": {
      "text/plain": [
       "(3446, 43)"
      ]
     },
     "execution_count": 5,
     "metadata": {},
     "output_type": "execute_result"
    }
   ],
   "source": [
    "df_alg = pd.read_csv('../raw_data/Alg_updated.csv',index_col='Unnamed: 0')\n",
    "df_alg.shape"
   ]
  },
  {
   "cell_type": "code",
   "execution_count": 11,
   "metadata": {},
   "outputs": [],
   "source": [
    "# df_sud = df_sud.loc[df_sud['نص الخبر'].duplicated() ==False]\n",
    "# df_alg = df_alg.loc[df_alg['نص الخبر'].duplicated() ==False]"
   ]
  },
  {
   "cell_type": "code",
   "execution_count": 12,
   "metadata": {},
   "outputs": [],
   "source": [
    "# df_alg['year'] = df_alg['تاريخ يوم الواقعة'].dt.year\n",
    "# df_sud['year'] = df_sud['يوم الواقعة'].dt.year"
   ]
  },
  {
   "cell_type": "code",
   "execution_count": 13,
   "metadata": {},
   "outputs": [],
   "source": [
    "# df_alg['month_year'] = pd.to_datetime(df_alg['تاريخ يوم الواقعة']).dt.to_period('M')\n",
    "# df_sud['month_year'] = pd.to_datetime(df_sud['يوم الواقعة']).dt.to_period('M')\n",
    "# df_alg['month_year']"
   ]
  },
  {
   "cell_type": "code",
   "execution_count": 14,
   "metadata": {},
   "outputs": [],
   "source": [
    "def source_name(link):\n",
    "    try:\n",
    "        \n",
    "        pattern = re.compile(r'(https?://|www\\.)?(www\\.)?([A-Za-z_0-9-]+)(\\..+)?')\n",
    "        name = pattern.sub(r'\\3',link)\n",
    "        return name if len(name) < 30 else 'Unknown'\n",
    "    except:\n",
    "        return 'Unknown' \n",
    "\n",
    "def fix_status(status):\n",
    "    if status != 'Accessable' and status != 'Not Found' and status != 'Forbidden':\n",
    "        return 'Not valid'\n",
    "    else:\n",
    "        return status\n",
    "#df_sud['source'] = df_sud['مصدر 1'].apply(source_name)\n",
    "#df_sud['source'].unique()"
   ]
  },
  {
   "cell_type": "code",
   "execution_count": 7,
   "metadata": {},
   "outputs": [],
   "source": [
    "df_sud['link_status'] = df_sud['link_status'].apply(fix_status)"
   ]
  },
  {
   "cell_type": "code",
   "execution_count": 8,
   "metadata": {},
   "outputs": [],
   "source": [
    "df_alg['link_status'] = df_alg['link_status'].apply(fix_status)"
   ]
  },
  {
   "cell_type": "code",
   "execution_count": 9,
   "metadata": {},
   "outputs": [
    {
     "data": {
      "text/plain": [
       "Accessable    1290\n",
       "Forbidden     1183\n",
       "Not Found      809\n",
       "Not valid      164\n",
       "Name: link_status, dtype: int64"
      ]
     },
     "execution_count": 9,
     "metadata": {},
     "output_type": "execute_result"
    }
   ],
   "source": [
    "df_alg.link_status.value_counts()"
   ]
  },
  {
   "cell_type": "code",
   "execution_count": 10,
   "metadata": {},
   "outputs": [],
   "source": [
    "# df_sud.to_csv('../raw_data/Sud_updated.csv', index=False)\n",
    "# df_alg.to_csv('../raw_data/Alg_updated.csv', index=False)"
   ]
  }
 ],
 "metadata": {
  "kernelspec": {
   "display_name": "Python 3.8.12 64-bit ('shims')",
   "language": "python",
   "name": "python3"
  },
  "language_info": {
   "codemirror_mode": {
    "name": "ipython",
    "version": 3
   },
   "file_extension": ".py",
   "mimetype": "text/x-python",
   "name": "python",
   "nbconvert_exporter": "python",
   "pygments_lexer": "ipython3",
   "version": "3.8.12"
  },
  "orig_nbformat": 4,
  "vscode": {
   "interpreter": {
    "hash": "08f894913cde66c7b668fed923c75d3a020a4a5d16d7076f7658aed24e50b1e3"
   }
  }
 },
 "nbformat": 4,
 "nbformat_minor": 2
}
